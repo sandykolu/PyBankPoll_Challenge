{
 "cells": [
  {
   "cell_type": "code",
   "execution_count": 2,
   "metadata": {},
   "outputs": [
    {
     "name": "stdout",
     "output_type": "stream",
     "text": [
      "./Resources/election_data.csv\n",
      "['Voter ID', 'County', 'Candidate']\n",
      "3521001\n"
     ]
    }
   ],
   "source": [
    "import os\n",
    "import csv\n",
    "csvpath = os.path.join(\".\", \"Resources\", \"election_data.csv\")\n",
    "print(csvpath)\n",
    "\n",
    "# The total number of votes cast\n",
    "\n",
    "# A complete list of candidates who received votes\n",
    "\n",
    "# The percentage of votes each candidate won\n",
    "\n",
    "# The total number of votes each candidate won\n",
    "\n",
    "# The winner of the election based on popular vote.\n",
    "\n",
    "# Initialize rowcount\n",
    "rowcount = 0\n",
    "\n",
    "with open(csvpath) as election_data:\n",
    "    csvreader = csv.reader(election_data,delimiter=\",\")\n",
    "    csvheader = next(csvreader)\n",
    "    print(csvheader)\n",
    "    \n",
    "    for row in csvreader:\n",
    "        rowcount += 1\n",
    "    \n",
    "    print(rowcount)\n",
    "    "
   ]
  },
  {
   "cell_type": "code",
   "execution_count": null,
   "metadata": {},
   "outputs": [],
   "source": []
  }
 ],
 "metadata": {
  "kernelspec": {
   "display_name": "Python 3",
   "language": "python",
   "name": "python3"
  },
  "language_info": {
   "codemirror_mode": {
    "name": "ipython",
    "version": 3
   },
   "file_extension": ".py",
   "mimetype": "text/x-python",
   "name": "python",
   "nbconvert_exporter": "python",
   "pygments_lexer": "ipython3",
   "version": "3.8.5"
  }
 },
 "nbformat": 4,
 "nbformat_minor": 4
}
